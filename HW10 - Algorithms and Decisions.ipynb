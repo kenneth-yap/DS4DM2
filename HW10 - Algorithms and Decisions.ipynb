{
 "cells": [
  {
   "cell_type": "markdown",
   "metadata": {},
   "source": [
    "# HW10: Algorithmic Fairness \n",
    "\n",
    "### Note: to complete most of this homework notions from week 11 slides are needed\n",
    "\n",
    "In this homework you will assess racial bias in the COMPAS algorithm and judges decisions. \n",
    "\n",
    "The data is a collection of 7000 criminal cases in Florida in which COMPAS was used and it contains information about defendants' demographics, criminal history (e.g., juvenile criminal records), court decision and recidivism."
   ]
  },
  {
   "cell_type": "code",
   "execution_count": 1,
   "metadata": {},
   "outputs": [],
   "source": [
    "import pandas as pd \n",
    "import matplotlib.pyplot as plt\n",
    "import seaborn as sns\n",
    "sns.set_theme()\n",
    "import warnings\n",
    "warnings.filterwarnings('ignore', category=FutureWarning)\n",
    "warnings.filterwarnings('ignore', category=DeprecationWarning)\n",
    "warnings.filterwarnings = lambda *a, **kw: None"
   ]
  },
  {
   "cell_type": "markdown",
   "metadata": {},
   "source": [
    "## Data Preparation"
   ]
  },
  {
   "cell_type": "code",
   "execution_count": 2,
   "metadata": {},
   "outputs": [
    {
     "data": {
      "text/html": [
       "<div>\n",
       "<style scoped>\n",
       "    .dataframe tbody tr th:only-of-type {\n",
       "        vertical-align: middle;\n",
       "    }\n",
       "\n",
       "    .dataframe tbody tr th {\n",
       "        vertical-align: top;\n",
       "    }\n",
       "\n",
       "    .dataframe thead th {\n",
       "        text-align: right;\n",
       "    }\n",
       "</style>\n",
       "<table border=\"1\" class=\"dataframe\">\n",
       "  <thead>\n",
       "    <tr style=\"text-align: right;\">\n",
       "      <th></th>\n",
       "      <th>id</th>\n",
       "      <th>name</th>\n",
       "      <th>first</th>\n",
       "      <th>last</th>\n",
       "      <th>compas_screening_date</th>\n",
       "      <th>sex</th>\n",
       "      <th>dob</th>\n",
       "      <th>age</th>\n",
       "      <th>age_cat</th>\n",
       "      <th>race</th>\n",
       "      <th>...</th>\n",
       "      <th>v_decile_score</th>\n",
       "      <th>v_score_text</th>\n",
       "      <th>v_screening_date</th>\n",
       "      <th>in_custody</th>\n",
       "      <th>out_custody</th>\n",
       "      <th>priors_count.1</th>\n",
       "      <th>start</th>\n",
       "      <th>end</th>\n",
       "      <th>event</th>\n",
       "      <th>two_year_recid</th>\n",
       "    </tr>\n",
       "  </thead>\n",
       "  <tbody>\n",
       "    <tr>\n",
       "      <th>0</th>\n",
       "      <td>1</td>\n",
       "      <td>miguel hernandez</td>\n",
       "      <td>miguel</td>\n",
       "      <td>hernandez</td>\n",
       "      <td>2013-08-14</td>\n",
       "      <td>Male</td>\n",
       "      <td>1947-04-18</td>\n",
       "      <td>69</td>\n",
       "      <td>Greater than 45</td>\n",
       "      <td>Other</td>\n",
       "      <td>...</td>\n",
       "      <td>1</td>\n",
       "      <td>Low</td>\n",
       "      <td>2013-08-14</td>\n",
       "      <td>2014-07-07</td>\n",
       "      <td>2014-07-14</td>\n",
       "      <td>0</td>\n",
       "      <td>0</td>\n",
       "      <td>327</td>\n",
       "      <td>0</td>\n",
       "      <td>0</td>\n",
       "    </tr>\n",
       "    <tr>\n",
       "      <th>1</th>\n",
       "      <td>3</td>\n",
       "      <td>kevon dixon</td>\n",
       "      <td>kevon</td>\n",
       "      <td>dixon</td>\n",
       "      <td>2013-01-27</td>\n",
       "      <td>Male</td>\n",
       "      <td>1982-01-22</td>\n",
       "      <td>34</td>\n",
       "      <td>25 - 45</td>\n",
       "      <td>African-American</td>\n",
       "      <td>...</td>\n",
       "      <td>1</td>\n",
       "      <td>Low</td>\n",
       "      <td>2013-01-27</td>\n",
       "      <td>2013-01-26</td>\n",
       "      <td>2013-02-05</td>\n",
       "      <td>0</td>\n",
       "      <td>9</td>\n",
       "      <td>159</td>\n",
       "      <td>1</td>\n",
       "      <td>1</td>\n",
       "    </tr>\n",
       "    <tr>\n",
       "      <th>2</th>\n",
       "      <td>4</td>\n",
       "      <td>ed philo</td>\n",
       "      <td>ed</td>\n",
       "      <td>philo</td>\n",
       "      <td>2013-04-14</td>\n",
       "      <td>Male</td>\n",
       "      <td>1991-05-14</td>\n",
       "      <td>24</td>\n",
       "      <td>Less than 25</td>\n",
       "      <td>African-American</td>\n",
       "      <td>...</td>\n",
       "      <td>3</td>\n",
       "      <td>Low</td>\n",
       "      <td>2013-04-14</td>\n",
       "      <td>2013-06-16</td>\n",
       "      <td>2013-06-16</td>\n",
       "      <td>4</td>\n",
       "      <td>0</td>\n",
       "      <td>63</td>\n",
       "      <td>0</td>\n",
       "      <td>1</td>\n",
       "    </tr>\n",
       "    <tr>\n",
       "      <th>3</th>\n",
       "      <td>5</td>\n",
       "      <td>marcu brown</td>\n",
       "      <td>marcu</td>\n",
       "      <td>brown</td>\n",
       "      <td>2013-01-13</td>\n",
       "      <td>Male</td>\n",
       "      <td>1993-01-21</td>\n",
       "      <td>23</td>\n",
       "      <td>Less than 25</td>\n",
       "      <td>African-American</td>\n",
       "      <td>...</td>\n",
       "      <td>6</td>\n",
       "      <td>Medium</td>\n",
       "      <td>2013-01-13</td>\n",
       "      <td>NaN</td>\n",
       "      <td>NaN</td>\n",
       "      <td>1</td>\n",
       "      <td>0</td>\n",
       "      <td>1174</td>\n",
       "      <td>0</td>\n",
       "      <td>0</td>\n",
       "    </tr>\n",
       "    <tr>\n",
       "      <th>4</th>\n",
       "      <td>6</td>\n",
       "      <td>bouthy pierrelouis</td>\n",
       "      <td>bouthy</td>\n",
       "      <td>pierrelouis</td>\n",
       "      <td>2013-03-26</td>\n",
       "      <td>Male</td>\n",
       "      <td>1973-01-22</td>\n",
       "      <td>43</td>\n",
       "      <td>25 - 45</td>\n",
       "      <td>Other</td>\n",
       "      <td>...</td>\n",
       "      <td>1</td>\n",
       "      <td>Low</td>\n",
       "      <td>2013-03-26</td>\n",
       "      <td>NaN</td>\n",
       "      <td>NaN</td>\n",
       "      <td>2</td>\n",
       "      <td>0</td>\n",
       "      <td>1102</td>\n",
       "      <td>0</td>\n",
       "      <td>0</td>\n",
       "    </tr>\n",
       "  </tbody>\n",
       "</table>\n",
       "<p>5 rows × 53 columns</p>\n",
       "</div>"
      ],
      "text/plain": [
       "   id                name   first         last compas_screening_date   sex  \\\n",
       "0   1    miguel hernandez  miguel    hernandez            2013-08-14  Male   \n",
       "1   3         kevon dixon   kevon        dixon            2013-01-27  Male   \n",
       "2   4            ed philo      ed        philo            2013-04-14  Male   \n",
       "3   5         marcu brown   marcu        brown            2013-01-13  Male   \n",
       "4   6  bouthy pierrelouis  bouthy  pierrelouis            2013-03-26  Male   \n",
       "\n",
       "          dob  age          age_cat              race  ...  v_decile_score  \\\n",
       "0  1947-04-18   69  Greater than 45             Other  ...               1   \n",
       "1  1982-01-22   34          25 - 45  African-American  ...               1   \n",
       "2  1991-05-14   24     Less than 25  African-American  ...               3   \n",
       "3  1993-01-21   23     Less than 25  African-American  ...               6   \n",
       "4  1973-01-22   43          25 - 45             Other  ...               1   \n",
       "\n",
       "   v_score_text  v_screening_date  in_custody  out_custody  priors_count.1  \\\n",
       "0           Low        2013-08-14  2014-07-07   2014-07-14               0   \n",
       "1           Low        2013-01-27  2013-01-26   2013-02-05               0   \n",
       "2           Low        2013-04-14  2013-06-16   2013-06-16               4   \n",
       "3        Medium        2013-01-13         NaN          NaN               1   \n",
       "4           Low        2013-03-26         NaN          NaN               2   \n",
       "\n",
       "  start   end event two_year_recid  \n",
       "0     0   327     0              0  \n",
       "1     9   159     1              1  \n",
       "2     0    63     0              1  \n",
       "3     0  1174     0              0  \n",
       "4     0  1102     0              0  \n",
       "\n",
       "[5 rows x 53 columns]"
      ]
     },
     "execution_count": 2,
     "metadata": {},
     "output_type": "execute_result"
    }
   ],
   "source": [
    "df = pd.read_csv('https://raw.githubusercontent.com/propublica/compas-analysis/master/compas-scores-two-years.csv')\n",
    "df.head()"
   ]
  },
  {
   "cell_type": "code",
   "execution_count": 3,
   "metadata": {},
   "outputs": [
    {
     "name": "stdout",
     "output_type": "stream",
     "text": [
      "<class 'pandas.core.frame.DataFrame'>\n",
      "RangeIndex: 7214 entries, 0 to 7213\n",
      "Data columns (total 53 columns):\n",
      " #   Column                   Non-Null Count  Dtype  \n",
      "---  ------                   --------------  -----  \n",
      " 0   id                       7214 non-null   int64  \n",
      " 1   name                     7214 non-null   object \n",
      " 2   first                    7214 non-null   object \n",
      " 3   last                     7214 non-null   object \n",
      " 4   compas_screening_date    7214 non-null   object \n",
      " 5   sex                      7214 non-null   object \n",
      " 6   dob                      7214 non-null   object \n",
      " 7   age                      7214 non-null   int64  \n",
      " 8   age_cat                  7214 non-null   object \n",
      " 9   race                     7214 non-null   object \n",
      " 10  juv_fel_count            7214 non-null   int64  \n",
      " 11  decile_score             7214 non-null   int64  \n",
      " 12  juv_misd_count           7214 non-null   int64  \n",
      " 13  juv_other_count          7214 non-null   int64  \n",
      " 14  priors_count             7214 non-null   int64  \n",
      " 15  days_b_screening_arrest  6907 non-null   float64\n",
      " 16  c_jail_in                6907 non-null   object \n",
      " 17  c_jail_out               6907 non-null   object \n",
      " 18  c_case_number            7192 non-null   object \n",
      " 19  c_offense_date           6055 non-null   object \n",
      " 20  c_arrest_date            1137 non-null   object \n",
      " 21  c_days_from_compas       7192 non-null   float64\n",
      " 22  c_charge_degree          7214 non-null   object \n",
      " 23  c_charge_desc            7185 non-null   object \n",
      " 24  is_recid                 7214 non-null   int64  \n",
      " 25  r_case_number            3471 non-null   object \n",
      " 26  r_charge_degree          3471 non-null   object \n",
      " 27  r_days_from_arrest       2316 non-null   float64\n",
      " 28  r_offense_date           3471 non-null   object \n",
      " 29  r_charge_desc            3413 non-null   object \n",
      " 30  r_jail_in                2316 non-null   object \n",
      " 31  r_jail_out               2316 non-null   object \n",
      " 32  violent_recid            0 non-null      float64\n",
      " 33  is_violent_recid         7214 non-null   int64  \n",
      " 34  vr_case_number           819 non-null    object \n",
      " 35  vr_charge_degree         819 non-null    object \n",
      " 36  vr_offense_date          819 non-null    object \n",
      " 37  vr_charge_desc           819 non-null    object \n",
      " 38  type_of_assessment       7214 non-null   object \n",
      " 39  decile_score.1           7214 non-null   int64  \n",
      " 40  score_text               7214 non-null   object \n",
      " 41  screening_date           7214 non-null   object \n",
      " 42  v_type_of_assessment     7214 non-null   object \n",
      " 43  v_decile_score           7214 non-null   int64  \n",
      " 44  v_score_text             7214 non-null   object \n",
      " 45  v_screening_date         7214 non-null   object \n",
      " 46  in_custody               6978 non-null   object \n",
      " 47  out_custody              6978 non-null   object \n",
      " 48  priors_count.1           7214 non-null   int64  \n",
      " 49  start                    7214 non-null   int64  \n",
      " 50  end                      7214 non-null   int64  \n",
      " 51  event                    7214 non-null   int64  \n",
      " 52  two_year_recid           7214 non-null   int64  \n",
      "dtypes: float64(4), int64(16), object(33)\n",
      "memory usage: 2.9+ MB\n"
     ]
    }
   ],
   "source": [
    "df.info()"
   ]
  },
  {
   "cell_type": "code",
   "execution_count": 4,
   "metadata": {},
   "outputs": [],
   "source": [
    "df['days_from_recid'] = pd.to_datetime(df['r_offense_date']) - pd.to_datetime(df['c_offense_date'])\n",
    "df['days_from_recid'] = df['days_from_recid'].dt.days\n",
    "df['two_year_recid2'] = (df['days_from_recid']<=730).astype(int)\n",
    "\n",
    "#generate felony charge dummies\n",
    "df['felony'] = (df['c_charge_degree'] == 'F').astype(int)\n",
    "\n",
    "#generate age dummies\n",
    "d = pd.get_dummies(df['age_cat'])\n",
    "df = pd.concat([df, d], axis=1)\n",
    "df = df.rename(columns={'25 - 45':'age_cat_25 - 45', 'Greater than 45':'age_cat_Greater than 45', 'Less than 25':'age_cat_Less than 25'})\n",
    "\n",
    "#generate ethnicity, race and compas score dummies\n",
    "d = pd.get_dummies(df['race'])\n",
    "df = pd.concat([df, d], axis=1)\n",
    "df['male'] = (df['sex'] == 'Male').astype(int)\n",
    "d = pd.get_dummies(df['score_text'])\n",
    "df = pd.concat([df, d], axis=1)\n",
    "df = df.rename(columns={'High':'score_text_high', 'Medium':'score_text_medium', 'Low':'score_text_low'})"
   ]
  },
  {
   "cell_type": "markdown",
   "metadata": {},
   "source": [
    "### Setting outcomes and predictors\n",
    "\n",
    "The *ideal* target variable for the COMPAS algorithm is the presence of a recidivism episode, while for judges is the decision to send the defendant to jail. For the predictors we use some deomgraphic characteristics **excluding race**, criminal hisotry and type of crime. "
   ]
  },
  {
   "cell_type": "code",
   "execution_count": 5,
   "metadata": {},
   "outputs": [
    {
     "data": {
      "text/plain": [
       "0    4283\n",
       "1    2931\n",
       "Name: jailed, dtype: int64"
      ]
     },
     "execution_count": 5,
     "metadata": {},
     "output_type": "execute_result"
    }
   ],
   "source": [
    "# judge decision: \"jailed\" = more than one day in jail.\n",
    "df['jail_days'] = pd.to_datetime(df['c_jail_out']) - pd.to_datetime(df['c_jail_in'])\n",
    "df['jailed'] = (df.jail_days.dt.days > 1).astype(int)\n",
    "D = df['jailed']\n",
    "D.value_counts()"
   ]
  },
  {
   "cell_type": "code",
   "execution_count": 6,
   "metadata": {},
   "outputs": [
    {
     "data": {
      "text/plain": [
       "0    4557\n",
       "1    2657\n",
       "Name: two_year_recid2, dtype: int64"
      ]
     },
     "execution_count": 6,
     "metadata": {},
     "output_type": "execute_result"
    }
   ],
   "source": [
    "# Algorithm outcome\n",
    "Y = df['two_year_recid2'] \n",
    "Y.value_counts()"
   ]
  },
  {
   "cell_type": "code",
   "execution_count": 7,
   "metadata": {},
   "outputs": [
    {
     "data": {
      "text/html": [
       "<div>\n",
       "<style scoped>\n",
       "    .dataframe tbody tr th:only-of-type {\n",
       "        vertical-align: middle;\n",
       "    }\n",
       "\n",
       "    .dataframe tbody tr th {\n",
       "        vertical-align: top;\n",
       "    }\n",
       "\n",
       "    .dataframe thead th {\n",
       "        text-align: right;\n",
       "    }\n",
       "</style>\n",
       "<table border=\"1\" class=\"dataframe\">\n",
       "  <thead>\n",
       "    <tr style=\"text-align: right;\">\n",
       "      <th></th>\n",
       "      <th>felony</th>\n",
       "      <th>male</th>\n",
       "      <th>age</th>\n",
       "      <th>juv_fel_count</th>\n",
       "      <th>juv_misd_count</th>\n",
       "      <th>juv_other_count</th>\n",
       "      <th>priors_count</th>\n",
       "    </tr>\n",
       "  </thead>\n",
       "  <tbody>\n",
       "    <tr>\n",
       "      <th>count</th>\n",
       "      <td>7214.000000</td>\n",
       "      <td>7214.000000</td>\n",
       "      <td>7214.000000</td>\n",
       "      <td>7214.000000</td>\n",
       "      <td>7214.000000</td>\n",
       "      <td>7214.000000</td>\n",
       "      <td>7214.000000</td>\n",
       "    </tr>\n",
       "    <tr>\n",
       "      <th>mean</th>\n",
       "      <td>0.646798</td>\n",
       "      <td>0.806626</td>\n",
       "      <td>34.817993</td>\n",
       "      <td>0.067230</td>\n",
       "      <td>0.090934</td>\n",
       "      <td>0.109371</td>\n",
       "      <td>3.472415</td>\n",
       "    </tr>\n",
       "    <tr>\n",
       "      <th>std</th>\n",
       "      <td>0.477998</td>\n",
       "      <td>0.394971</td>\n",
       "      <td>11.888922</td>\n",
       "      <td>0.473972</td>\n",
       "      <td>0.485239</td>\n",
       "      <td>0.501586</td>\n",
       "      <td>4.882538</td>\n",
       "    </tr>\n",
       "    <tr>\n",
       "      <th>min</th>\n",
       "      <td>0.000000</td>\n",
       "      <td>0.000000</td>\n",
       "      <td>18.000000</td>\n",
       "      <td>0.000000</td>\n",
       "      <td>0.000000</td>\n",
       "      <td>0.000000</td>\n",
       "      <td>0.000000</td>\n",
       "    </tr>\n",
       "    <tr>\n",
       "      <th>25%</th>\n",
       "      <td>0.000000</td>\n",
       "      <td>1.000000</td>\n",
       "      <td>25.000000</td>\n",
       "      <td>0.000000</td>\n",
       "      <td>0.000000</td>\n",
       "      <td>0.000000</td>\n",
       "      <td>0.000000</td>\n",
       "    </tr>\n",
       "    <tr>\n",
       "      <th>50%</th>\n",
       "      <td>1.000000</td>\n",
       "      <td>1.000000</td>\n",
       "      <td>31.000000</td>\n",
       "      <td>0.000000</td>\n",
       "      <td>0.000000</td>\n",
       "      <td>0.000000</td>\n",
       "      <td>2.000000</td>\n",
       "    </tr>\n",
       "    <tr>\n",
       "      <th>75%</th>\n",
       "      <td>1.000000</td>\n",
       "      <td>1.000000</td>\n",
       "      <td>42.000000</td>\n",
       "      <td>0.000000</td>\n",
       "      <td>0.000000</td>\n",
       "      <td>0.000000</td>\n",
       "      <td>5.000000</td>\n",
       "    </tr>\n",
       "    <tr>\n",
       "      <th>max</th>\n",
       "      <td>1.000000</td>\n",
       "      <td>1.000000</td>\n",
       "      <td>96.000000</td>\n",
       "      <td>20.000000</td>\n",
       "      <td>13.000000</td>\n",
       "      <td>17.000000</td>\n",
       "      <td>38.000000</td>\n",
       "    </tr>\n",
       "  </tbody>\n",
       "</table>\n",
       "</div>"
      ],
      "text/plain": [
       "            felony         male          age  juv_fel_count  juv_misd_count  \\\n",
       "count  7214.000000  7214.000000  7214.000000    7214.000000     7214.000000   \n",
       "mean      0.646798     0.806626    34.817993       0.067230        0.090934   \n",
       "std       0.477998     0.394971    11.888922       0.473972        0.485239   \n",
       "min       0.000000     0.000000    18.000000       0.000000        0.000000   \n",
       "25%       0.000000     1.000000    25.000000       0.000000        0.000000   \n",
       "50%       1.000000     1.000000    31.000000       0.000000        0.000000   \n",
       "75%       1.000000     1.000000    42.000000       0.000000        0.000000   \n",
       "max       1.000000     1.000000    96.000000      20.000000       13.000000   \n",
       "\n",
       "       juv_other_count  priors_count  \n",
       "count      7214.000000   7214.000000  \n",
       "mean          0.109371      3.472415  \n",
       "std           0.501586      4.882538  \n",
       "min           0.000000      0.000000  \n",
       "25%           0.000000      0.000000  \n",
       "50%           0.000000      2.000000  \n",
       "75%           0.000000      5.000000  \n",
       "max          17.000000     38.000000  "
      ]
     },
     "execution_count": 7,
     "metadata": {},
     "output_type": "execute_result"
    }
   ],
   "source": [
    "# predictors\n",
    "predictors = ['felony',\n",
    "              'male', 'age', \n",
    "              'juv_fel_count','juv_misd_count', 'juv_other_count', 'priors_count']\n",
    "X = df[predictors]\n",
    "X.describe()"
   ]
  },
  {
   "cell_type": "code",
   "execution_count": 8,
   "metadata": {},
   "outputs": [
    {
     "data": {
      "text/plain": [
       "African-American    3696\n",
       "Caucasian           2454\n",
       "Hispanic             637\n",
       "Other                377\n",
       "Asian                 32\n",
       "Native American       18\n",
       "Name: race, dtype: int64"
      ]
     },
     "execution_count": 8,
     "metadata": {},
     "output_type": "execute_result"
    }
   ],
   "source": [
    "df['race'].value_counts()"
   ]
  },
  {
   "cell_type": "code",
   "execution_count": 9,
   "metadata": {},
   "outputs": [
    {
     "data": {
      "text/plain": [
       "count    7214.000000\n",
       "mean        0.659828\n",
       "std         0.473800\n",
       "min         0.000000\n",
       "25%         0.000000\n",
       "50%         1.000000\n",
       "75%         1.000000\n",
       "max         1.000000\n",
       "Name: race, dtype: float64"
      ]
     },
     "execution_count": 9,
     "metadata": {},
     "output_type": "execute_result"
    }
   ],
   "source": [
    "# indicator variable for non-white\n",
    "NW = (df['race'] != 'Caucasian').astype(int)\n",
    "NW.describe()"
   ]
  },
  {
   "cell_type": "markdown",
   "metadata": {},
   "source": [
    "## Assessing Algorithm: Predict Recidivism from Features"
   ]
  },
  {
   "cell_type": "markdown",
   "metadata": {},
   "source": [
    "In the following you will predict recidivism from defendants' features using a nested training/test split so we can get clean test-set predictions for the whole dataset (see the notebook and homework on double machine learning for how to do this - week 6)."
   ]
  },
  {
   "cell_type": "code",
   "execution_count": 10,
   "metadata": {
    "scrolled": true
   },
   "outputs": [
    {
     "data": {
      "text/html": [
       "<div>\n",
       "<style scoped>\n",
       "    .dataframe tbody tr th:only-of-type {\n",
       "        vertical-align: middle;\n",
       "    }\n",
       "\n",
       "    .dataframe tbody tr th {\n",
       "        vertical-align: top;\n",
       "    }\n",
       "\n",
       "    .dataframe thead th {\n",
       "        text-align: right;\n",
       "    }\n",
       "</style>\n",
       "<table border=\"1\" class=\"dataframe\">\n",
       "  <thead>\n",
       "    <tr style=\"text-align: right;\">\n",
       "      <th></th>\n",
       "      <th>felony</th>\n",
       "      <th>male</th>\n",
       "      <th>age</th>\n",
       "      <th>juv_fel_count</th>\n",
       "      <th>juv_misd_count</th>\n",
       "      <th>juv_other_count</th>\n",
       "      <th>priors_count</th>\n",
       "      <th>two_year_recid2</th>\n",
       "      <th>two_year_recid2_hat</th>\n",
       "      <th>two_year_recid2_prob</th>\n",
       "    </tr>\n",
       "  </thead>\n",
       "  <tbody>\n",
       "    <tr>\n",
       "      <th>526</th>\n",
       "      <td>1</td>\n",
       "      <td>1</td>\n",
       "      <td>24</td>\n",
       "      <td>0</td>\n",
       "      <td>0</td>\n",
       "      <td>0</td>\n",
       "      <td>0</td>\n",
       "      <td>0</td>\n",
       "      <td>0</td>\n",
       "      <td>0.380252</td>\n",
       "    </tr>\n",
       "    <tr>\n",
       "      <th>4000</th>\n",
       "      <td>0</td>\n",
       "      <td>1</td>\n",
       "      <td>27</td>\n",
       "      <td>0</td>\n",
       "      <td>0</td>\n",
       "      <td>0</td>\n",
       "      <td>0</td>\n",
       "      <td>0</td>\n",
       "      <td>0</td>\n",
       "      <td>0.352037</td>\n",
       "    </tr>\n",
       "    <tr>\n",
       "      <th>4374</th>\n",
       "      <td>1</td>\n",
       "      <td>1</td>\n",
       "      <td>39</td>\n",
       "      <td>0</td>\n",
       "      <td>0</td>\n",
       "      <td>0</td>\n",
       "      <td>35</td>\n",
       "      <td>0</td>\n",
       "      <td>1</td>\n",
       "      <td>0.909815</td>\n",
       "    </tr>\n",
       "    <tr>\n",
       "      <th>5212</th>\n",
       "      <td>1</td>\n",
       "      <td>1</td>\n",
       "      <td>27</td>\n",
       "      <td>0</td>\n",
       "      <td>0</td>\n",
       "      <td>0</td>\n",
       "      <td>0</td>\n",
       "      <td>0</td>\n",
       "      <td>0</td>\n",
       "      <td>0.354660</td>\n",
       "    </tr>\n",
       "    <tr>\n",
       "      <th>2522</th>\n",
       "      <td>1</td>\n",
       "      <td>1</td>\n",
       "      <td>56</td>\n",
       "      <td>0</td>\n",
       "      <td>0</td>\n",
       "      <td>0</td>\n",
       "      <td>1</td>\n",
       "      <td>0</td>\n",
       "      <td>0</td>\n",
       "      <td>0.172561</td>\n",
       "    </tr>\n",
       "  </tbody>\n",
       "</table>\n",
       "</div>"
      ],
      "text/plain": [
       "      felony  male  age  juv_fel_count  juv_misd_count  juv_other_count  \\\n",
       "526        1     1   24              0               0                0   \n",
       "4000       0     1   27              0               0                0   \n",
       "4374       1     1   39              0               0                0   \n",
       "5212       1     1   27              0               0                0   \n",
       "2522       1     1   56              0               0                0   \n",
       "\n",
       "      priors_count  two_year_recid2  two_year_recid2_hat  two_year_recid2_prob  \n",
       "526              0                0                    0              0.380252  \n",
       "4000             0                0                    0              0.352037  \n",
       "4374            35                0                    1              0.909815  \n",
       "5212             0                0                    0              0.354660  \n",
       "2522             1                0                    0              0.172561  "
      ]
     },
     "execution_count": 10,
     "metadata": {},
     "output_type": "execute_result"
    }
   ],
   "source": [
    "# perform nested train/test split \n",
    "from sklearn.model_selection import train_test_split\n",
    "X_a, X_b, Y_a, Y_b, D_a, D_b,NW_a, NW_b = train_test_split(X, Y, D, NW, test_size = 0.5)\n",
    "\n",
    "df_pred = X_a.append(X_b) \n",
    "#TODO train a logit model to predict recidism (Y) from predictors (X).\n",
    "#TODO form clean test-set predictions for recidivism in the full dataset\n",
    "from sklearn.linear_model import LogisticRegression\n",
    "\n",
    "logit_a = LogisticRegression()\n",
    "logit_a.fit(X_a, Y_a)\n",
    "Y_bhat = logit_a.predict(X_b) # Predict the actual value\n",
    "Y_bprob = logit_a.predict_proba(X_b)[:, 1] # Class probabilities of each data\n",
    "\n",
    "logit_b = LogisticRegression()\n",
    "logit_b.fit(X_b, Y_b)\n",
    "Y_ahat = logit_b.predict(X_a)\n",
    "Y_aprob = logit_b.predict_proba(X_a)[:, 1]\n",
    "\n",
    "\n",
    "Y_adf = Y_a.to_frame()\n",
    "Y_adf['two_year_recid2_hat'] = Y_ahat\n",
    "Y_adf['two_year_recid2_prob'] = Y_aprob\n",
    "\n",
    "Y_bdf = Y_b.to_frame()\n",
    "Y_bdf['two_year_recid2_hat'] = Y_bhat\n",
    "Y_bdf['two_year_recid2_prob'] = Y_bprob\n",
    "\n",
    "Y_pred = Y_adf.append(Y_bdf)\n",
    "df_pred = df_pred.merge(Y_pred, left_index=True, right_index=True)\n",
    "df_pred.head(5)"
   ]
  },
  {
   "cell_type": "markdown",
   "metadata": {},
   "source": [
    "Evaluate test set performance."
   ]
  },
  {
   "cell_type": "code",
   "execution_count": 11,
   "metadata": {
    "scrolled": true
   },
   "outputs": [
    {
     "name": "stdout",
     "output_type": "stream",
     "text": [
      "              precision    recall  f1-score   support\n",
      "\n",
      "           0       0.67      0.91      0.77      4557\n",
      "           1       0.59      0.22      0.32      2657\n",
      "\n",
      "    accuracy                           0.66      7214\n",
      "   macro avg       0.63      0.56      0.54      7214\n",
      "weighted avg       0.64      0.66      0.60      7214\n",
      "\n",
      "False Positive/False Negative:  0.19107057129140662\n"
     ]
    },
    {
     "data": {
      "image/png": "[encoded data removed]",
      "text/plain": [
       "<Figure size 640x480 with 2 Axes>"
      ]
     },
     "metadata": {},
     "output_type": "display_data"
    },
    {
     "data": {
      "image/png": "[encoded data removed]",
      "text/plain": [
       "<Figure size 640x480 with 2 Axes>"
      ]
     },
     "metadata": {},
     "output_type": "display_data"
    }
   ],
   "source": [
    "#TODO show a confusion matrix, compute accuracy, balanced accuracy, and roc_auc\n",
    "#TODO compute ratio of false positives to false negatives\n",
    "\n",
    "# Confusion matrix\n",
    "from sklearn.metrics import confusion_matrix, plot_confusion_matrix\n",
    "plot_confusion_matrix(logit_a, df_pred[predictors], df_pred['two_year_recid2'])\n",
    "plot_confusion_matrix(logit_b, df_pred[predictors], df_pred['two_year_recid2'])\n",
    "\n",
    "# Accuracy, balanced accuracy and roc_auc\n",
    "from sklearn.metrics import classification_report\n",
    "print(classification_report(df_pred['two_year_recid2'], df_pred['two_year_recid2_hat']))\n",
    "\n",
    "# Ratio of false positives to false negatives\n",
    "tn, fp, fn, tp = confusion_matrix(df_pred['two_year_recid2'], df_pred['two_year_recid2_hat']).ravel()\n",
    "print('False Positive/False Negative: ', fp/fn)"
   ]
  },
  {
   "cell_type": "markdown",
   "metadata": {},
   "source": [
    "### Compare treatment of whites and non-whites for recidivism prediction\n",
    "##### Refer to week 11 for these concepts"
   ]
  },
  {
   "cell_type": "markdown",
   "metadata": {},
   "source": [
    "#### Base Rates"
   ]
  },
  {
   "cell_type": "code",
   "execution_count": 12,
   "metadata": {},
   "outputs": [
    {
     "data": {
      "text/plain": [
       "(0.3280358598207009, 0.38907563025210085)"
      ]
     },
     "execution_count": 12,
     "metadata": {},
     "output_type": "execute_result"
    }
   ],
   "source": [
    "##TODO Compare base rates for recidivism outcomes of whites and non-whites\n",
    "\n",
    "br_white = df.loc[df['race'] == 'Caucasian', 'two_year_recid2'].sum()/df[df['race'] == 'Caucasian'].count()['race']\n",
    "br_non_white = df.loc[df['race'] != 'Caucasian', 'two_year_recid2'].sum()/df.loc[df['race'] != 'Caucasian'].count()['race']\n",
    "br_white, br_non_white"
   ]
  },
  {
   "cell_type": "markdown",
   "metadata": {},
   "source": [
    "#### Performance"
   ]
  },
  {
   "cell_type": "code",
   "execution_count": 13,
   "metadata": {},
   "outputs": [
    {
     "name": "stdout",
     "output_type": "stream",
     "text": [
      "Whites\n",
      "              precision    recall  f1-score   support\n",
      "\n",
      "           0       0.69      0.95      0.80      1649\n",
      "           1       0.57      0.13      0.21       805\n",
      "\n",
      "    accuracy                           0.68      2454\n",
      "   macro avg       0.63      0.54      0.51      2454\n",
      "weighted avg       0.65      0.68      0.61      2454\n",
      "\n",
      "[[1568   81]\n",
      " [ 699  106]]\n",
      "False Positive/False Negative:  0.11587982832618025\n",
      "\n",
      "Non-Whites\n",
      "              precision    recall  f1-score   support\n",
      "\n",
      "           0       0.65      0.89      0.75      2908\n",
      "           1       0.60      0.25      0.35      1852\n",
      "\n",
      "    accuracy                           0.64      4760\n",
      "   macro avg       0.62      0.57      0.55      4760\n",
      "weighted avg       0.63      0.64      0.60      4760\n",
      "\n",
      "[[2591  317]\n",
      " [1384  468]]\n",
      "False Positive/False Negative:  0.22904624277456648\n"
     ]
    }
   ],
   "source": [
    "##TODO Produce confusion matrices, classification reports, and ratio of false positives to false negatives, separately for whites and non-whites.\n",
    "\n",
    "df_pred=df_pred.merge(df['race'],left_index=True,right_index=True)\n",
    "df_pred_white = df_pred[df_pred['race']=='Caucasian']\n",
    "df_pred_non_white = df_pred[df_pred['race']!='Caucasian']\n",
    "\n",
    "print('Whites')\n",
    "print(classification_report(df_pred_white['two_year_recid2'], df_pred_white['two_year_recid2_hat']))\n",
    "print(confusion_matrix(df_pred_white['two_year_recid2'], df_pred_white['two_year_recid2_hat']))\n",
    "tn, fp, fn, tp = confusion_matrix(df_pred_white['two_year_recid2'], df_pred_white['two_year_recid2_hat']).ravel()\n",
    "print('False Positive/False Negative: ', fp/fn)\n",
    "\n",
    "print ('')\n",
    "\n",
    "print('Non-Whites')\n",
    "print(classification_report(df_pred_non_white['two_year_recid2'], df_pred_non_white['two_year_recid2_hat']))\n",
    "print(confusion_matrix(df_pred_non_white['two_year_recid2'], df_pred_non_white['two_year_recid2_hat']))\n",
    "tn, fp, fn, tp = confusion_matrix(df_pred_non_white['two_year_recid2'], df_pred_non_white['two_year_recid2_hat']).ravel()\n",
    "print('False Positive/False Negative: ', fp/fn)\n"
   ]
  },
  {
   "cell_type": "markdown",
   "metadata": {},
   "source": [
    "**What concepts of \"fairness\" (from class) are (approximately) satisfied by this classifier? Explain.**"
   ]
  },
  {
   "cell_type": "markdown",
   "metadata": {},
   "source": [
    "- Accuracy is very similar (0.68 and 0.64).\n",
    "- fp/fn ratio is 0.13 vs 0.22. Therefore, treatment quality is not achieved."
   ]
  },
  {
   "cell_type": "markdown",
   "metadata": {},
   "source": [
    "## Assessing Judges' Decisions: Predict Judge Decision from Features"
   ]
  },
  {
   "cell_type": "markdown",
   "metadata": {},
   "source": [
    "In the following you will predict judges' decisions from defendants' features using a nested training/test split as before. In a second model, include Y-hat from previous section as a predictor."
   ]
  },
  {
   "cell_type": "code",
   "execution_count": 14,
   "metadata": {},
   "outputs": [],
   "source": [
    "#TODO train a logit model to predict judge decision (D) from predictors (X). \n",
    "\n",
    "logit_a = LogisticRegression()\n",
    "logit_a.fit(X_a, D_a)\n",
    "D_bhat = logit_a.predict(X_b)\n",
    "D_bprob = logit_a.predict_proba(X_b)[:, 1]\n",
    "logit_b = LogisticRegression()\n",
    "logit_b.fit(X_b, D_b)\n",
    "D_ahat = logit_b.predict(X_a)\n",
    "D_aprob = logit_b.predict_proba(X_a)[:, 1]\n",
    "\n",
    "D_adf = D_a.to_frame()\n",
    "D_adf['jailed_hat'] = D_ahat\n",
    "D_adf['jailed_prob'] = D_aprob\n",
    "D_bdf = D_b.to_frame()\n",
    "D_bdf['jailed_hat'] = D_bhat\n",
    "D_bdf['jailed_prob'] = D_bprob"
   ]
  },
  {
   "cell_type": "code",
   "execution_count": 15,
   "metadata": {
    "scrolled": false
   },
   "outputs": [
    {
     "data": {
      "text/html": [
       "<div>\n",
       "<style scoped>\n",
       "    .dataframe tbody tr th:only-of-type {\n",
       "        vertical-align: middle;\n",
       "    }\n",
       "\n",
       "    .dataframe tbody tr th {\n",
       "        vertical-align: top;\n",
       "    }\n",
       "\n",
       "    .dataframe thead th {\n",
       "        text-align: right;\n",
       "    }\n",
       "</style>\n",
       "<table border=\"1\" class=\"dataframe\">\n",
       "  <thead>\n",
       "    <tr style=\"text-align: right;\">\n",
       "      <th></th>\n",
       "      <th>felony</th>\n",
       "      <th>male</th>\n",
       "      <th>age</th>\n",
       "      <th>juv_fel_count</th>\n",
       "      <th>juv_misd_count</th>\n",
       "      <th>juv_other_count</th>\n",
       "      <th>priors_count</th>\n",
       "      <th>two_year_recid2</th>\n",
       "      <th>two_year_recid2_hat</th>\n",
       "      <th>two_year_recid2_prob</th>\n",
       "      <th>race</th>\n",
       "      <th>jailed</th>\n",
       "      <th>jailed_hat</th>\n",
       "      <th>jailed_prob</th>\n",
       "      <th>jailed_Y_hat</th>\n",
       "      <th>jailed_Y_prob</th>\n",
       "    </tr>\n",
       "  </thead>\n",
       "  <tbody>\n",
       "    <tr>\n",
       "      <th>526</th>\n",
       "      <td>1</td>\n",
       "      <td>1</td>\n",
       "      <td>24</td>\n",
       "      <td>0</td>\n",
       "      <td>0</td>\n",
       "      <td>0</td>\n",
       "      <td>0</td>\n",
       "      <td>0</td>\n",
       "      <td>0</td>\n",
       "      <td>0.380252</td>\n",
       "      <td>Caucasian</td>\n",
       "      <td>1</td>\n",
       "      <td>0</td>\n",
       "      <td>0.410326</td>\n",
       "      <td>0</td>\n",
       "      <td>0.417713</td>\n",
       "    </tr>\n",
       "    <tr>\n",
       "      <th>4000</th>\n",
       "      <td>0</td>\n",
       "      <td>1</td>\n",
       "      <td>27</td>\n",
       "      <td>0</td>\n",
       "      <td>0</td>\n",
       "      <td>0</td>\n",
       "      <td>0</td>\n",
       "      <td>0</td>\n",
       "      <td>0</td>\n",
       "      <td>0.352037</td>\n",
       "      <td>Caucasian</td>\n",
       "      <td>0</td>\n",
       "      <td>0</td>\n",
       "      <td>0.281274</td>\n",
       "      <td>0</td>\n",
       "      <td>0.406697</td>\n",
       "    </tr>\n",
       "    <tr>\n",
       "      <th>4374</th>\n",
       "      <td>1</td>\n",
       "      <td>1</td>\n",
       "      <td>39</td>\n",
       "      <td>0</td>\n",
       "      <td>0</td>\n",
       "      <td>0</td>\n",
       "      <td>35</td>\n",
       "      <td>0</td>\n",
       "      <td>1</td>\n",
       "      <td>0.909815</td>\n",
       "      <td>African-American</td>\n",
       "      <td>1</td>\n",
       "      <td>1</td>\n",
       "      <td>0.900373</td>\n",
       "      <td>0</td>\n",
       "      <td>0.435434</td>\n",
       "    </tr>\n",
       "    <tr>\n",
       "      <th>5212</th>\n",
       "      <td>1</td>\n",
       "      <td>1</td>\n",
       "      <td>27</td>\n",
       "      <td>0</td>\n",
       "      <td>0</td>\n",
       "      <td>0</td>\n",
       "      <td>0</td>\n",
       "      <td>0</td>\n",
       "      <td>0</td>\n",
       "      <td>0.354660</td>\n",
       "      <td>African-American</td>\n",
       "      <td>1</td>\n",
       "      <td>0</td>\n",
       "      <td>0.408844</td>\n",
       "      <td>0</td>\n",
       "      <td>0.403482</td>\n",
       "    </tr>\n",
       "    <tr>\n",
       "      <th>2522</th>\n",
       "      <td>1</td>\n",
       "      <td>1</td>\n",
       "      <td>56</td>\n",
       "      <td>0</td>\n",
       "      <td>0</td>\n",
       "      <td>0</td>\n",
       "      <td>1</td>\n",
       "      <td>0</td>\n",
       "      <td>0</td>\n",
       "      <td>0.172561</td>\n",
       "      <td>Caucasian</td>\n",
       "      <td>0</td>\n",
       "      <td>0</td>\n",
       "      <td>0.412453</td>\n",
       "      <td>0</td>\n",
       "      <td>0.407356</td>\n",
       "    </tr>\n",
       "  </tbody>\n",
       "</table>\n",
       "</div>"
      ],
      "text/plain": [
       "      felony  male  age  juv_fel_count  juv_misd_count  juv_other_count  \\\n",
       "526        1     1   24              0               0                0   \n",
       "4000       0     1   27              0               0                0   \n",
       "4374       1     1   39              0               0                0   \n",
       "5212       1     1   27              0               0                0   \n",
       "2522       1     1   56              0               0                0   \n",
       "\n",
       "      priors_count  two_year_recid2  two_year_recid2_hat  \\\n",
       "526              0                0                    0   \n",
       "4000             0                0                    0   \n",
       "4374            35                0                    1   \n",
       "5212             0                0                    0   \n",
       "2522             1                0                    0   \n",
       "\n",
       "      two_year_recid2_prob              race  jailed  jailed_hat  jailed_prob  \\\n",
       "526               0.380252         Caucasian       1           0     0.410326   \n",
       "4000              0.352037         Caucasian       0           0     0.281274   \n",
       "4374              0.909815  African-American       1           1     0.900373   \n",
       "5212              0.354660  African-American       1           0     0.408844   \n",
       "2522              0.172561         Caucasian       0           0     0.412453   \n",
       "\n",
       "      jailed_Y_hat  jailed_Y_prob  \n",
       "526              0       0.417713  \n",
       "4000             0       0.406697  \n",
       "4374             0       0.435434  \n",
       "5212             0       0.403482  \n",
       "2522             0       0.407356  "
      ]
     },
     "execution_count": 15,
     "metadata": {},
     "output_type": "execute_result"
    }
   ],
   "source": [
    "#TODO train a logit model to predict judge decision (D) from predictors (X) and predicted recidivism risk (Yhat)\n",
    "#TODO form clean test-set predictions for the decisions in the full dataset\n",
    "XY_a = df_pred[predictors].iloc[X_a.index]\n",
    "XY_b = df_pred[predictors].iloc[X_b.index]\n",
    "logit_a = LogisticRegression()\n",
    "logit_a.fit(XY_a, D_a)\n",
    "D_bhat = logit_a.predict(XY_b)\n",
    "D_bprob = logit_a.predict_proba(XY_b)[:, 1]\n",
    "logit_b = LogisticRegression()\n",
    "logit_b.fit(XY_b, D_b)\n",
    "D_ahat = logit_b.predict(XY_a)\n",
    "D_aprob = logit_b.predict_proba(XY_a)[:, 1]\n",
    "\n",
    "D_adf['jailed_Y_hat'] = D_ahat\n",
    "D_adf['jailed_Y_prob'] = D_aprob\n",
    "D_bdf['jailed_Y_hat'] = D_bhat\n",
    "D_bdf['jailed_Y_prob'] = D_bprob\n",
    "\n",
    "D_pred = D_adf.append(D_bdf)\n",
    "df_pred = df_pred.merge(D_pred, left_index=True, right_index=True)\n",
    "df_pred.head(5)"
   ]
  },
  {
   "cell_type": "markdown",
   "metadata": {},
   "source": [
    "### Compare treatment of whites and non-whites for recidivism prediction"
   ]
  },
  {
   "cell_type": "code",
   "execution_count": 16,
   "metadata": {},
   "outputs": [
    {
     "name": "stdout",
     "output_type": "stream",
     "text": [
      "Whites\n",
      "              precision    recall  f1-score   support\n",
      "\n",
      "           0       0.64      0.94      0.76      1485\n",
      "           1       0.64      0.18      0.28       969\n",
      "\n",
      "    accuracy                           0.64      2454\n",
      "   macro avg       0.64      0.56      0.52      2454\n",
      "weighted avg       0.64      0.64      0.57      2454\n",
      "\n",
      "[[1390   95]\n",
      " [ 798  171]]\n",
      "False Positive/False Negative:  0.11904761904761904\n",
      "\n",
      "White (with Y_hat)\n",
      "              precision    recall  f1-score   support\n",
      "\n",
      "           0       0.60      1.00      0.75      1485\n",
      "           1       0.25      0.00      0.00       969\n",
      "\n",
      "    accuracy                           0.60      2454\n",
      "   macro avg       0.43      0.50      0.38      2454\n",
      "weighted avg       0.46      0.60      0.46      2454\n",
      "\n",
      "[[1479    6]\n",
      " [ 967    2]]\n",
      "False Positive/False Negative:  0.0062047569803516025\n",
      "\n",
      "Non-Whites\n",
      "              precision    recall  f1-score   support\n",
      "\n",
      "           0       0.63      0.85      0.72      2798\n",
      "           1       0.57      0.28      0.38      1962\n",
      "\n",
      "    accuracy                           0.62      4760\n",
      "   macro avg       0.60      0.57      0.55      4760\n",
      "weighted avg       0.61      0.62      0.58      4760\n",
      "\n",
      "[[2383  415]\n",
      " [1405  557]]\n",
      "False Positive/False Negative:  0.29537366548042704\n",
      "\n",
      "Non-Whites (with Y_hat)\n",
      "              precision    recall  f1-score   support\n",
      "\n",
      "           0       0.59      1.00      0.74      2798\n",
      "           1       0.55      0.01      0.01      1962\n",
      "\n",
      "    accuracy                           0.59      4760\n",
      "   macro avg       0.57      0.50      0.38      4760\n",
      "weighted avg       0.57      0.59      0.44      4760\n",
      "\n",
      "[[2788   10]\n",
      " [1950   12]]\n",
      "False Positive/False Negative:  0.005128205128205128\n"
     ]
    }
   ],
   "source": [
    "##TODO Produce confusion matrices, classification reports, and ratio of false positives to false negatives, \n",
    "##TODO separately for whites and non-whites, and with/without including Y-hat as a predictor.\n",
    "df_pred_white = df_pred[df_pred['race']=='Caucasian']\n",
    "df_pred_non_white = df_pred[df_pred['race']!='Caucasian']\n",
    "\n",
    "print('Whites')\n",
    "print(classification_report(df_pred_white['jailed'], df_pred_white['jailed_hat']))\n",
    "print(confusion_matrix(df_pred_white['jailed'], df_pred_white['jailed_hat']))\n",
    "tn, fp, fn, tp = confusion_matrix(df_pred_white['jailed'], df_pred_white['jailed_hat']).ravel()\n",
    "print('False Positive/False Negative: ', fp/fn)\n",
    "\n",
    "print('')\n",
    "\n",
    "print('White (with Y_hat)')\n",
    "print(classification_report(df_pred_white['jailed'], df_pred_white['jailed_Y_hat']))\n",
    "print(confusion_matrix(df_pred_white['jailed'], df_pred_white['jailed_Y_hat']))\n",
    "tn, fp, fn, tp = confusion_matrix(df_pred_white['jailed'], df_pred_white['jailed_Y_hat']).ravel()\n",
    "print('False Positive/False Negative: ', fp/fn)\n",
    "\n",
    "print('')\n",
    "\n",
    "print('Non-Whites')\n",
    "print(classification_report(df_pred_non_white['jailed'], df_pred_non_white['jailed_hat']))\n",
    "print(confusion_matrix(df_pred_non_white['jailed'], df_pred_non_white['jailed_hat']))\n",
    "tn, fp, fn, tp = confusion_matrix(df_pred_non_white['jailed'], df_pred_non_white['jailed_hat']).ravel()\n",
    "print('False Positive/False Negative: ', fp/fn)\n",
    "\n",
    "print('')\n",
    "\n",
    "print('Non-Whites (with Y_hat)')\n",
    "print(classification_report(df_pred_non_white['jailed'], df_pred_non_white['jailed_Y_hat']))\n",
    "print(confusion_matrix(df_pred_non_white['jailed'], df_pred_non_white['jailed_Y_hat']))\n",
    "tn, fp, fn, tp = confusion_matrix(df_pred_non_white['jailed'], df_pred_non_white['jailed_Y_hat']).ravel()\n",
    "print('False Positive/False Negative: ', fp/fn)\n"
   ]
  },
  {
   "cell_type": "markdown",
   "metadata": {},
   "source": [
    "### Enforcing Statistical Parity"
   ]
  },
  {
   "cell_type": "markdown",
   "metadata": {},
   "source": [
    "In this part you will find the the group-specific thresholds for both models of judges' decision (with/without Yhat) that obtain statistical parity.\n",
    "\n",
    "You can use a custom classifier `threshold` for the decision with this type of code snippet: `decisions = (logit.predict_proba(X) >= threshold).astype(int)`."
   ]
  },
  {
   "cell_type": "markdown",
   "metadata": {},
   "source": [
    "#### Model without Yhat"
   ]
  },
  {
   "cell_type": "code",
   "execution_count": 17,
   "metadata": {
    "scrolled": true
   },
   "outputs": [
    {
     "name": "stdout",
     "output_type": "stream",
     "text": [
      "Average predicted outcome for whites:  0.10839445802770986\n",
      "Average predicted outcome for non-whites:  0.2042016806722689\n",
      " \n",
      "Results with ad-hoc threshold\n",
      "Average predicted outcome for whites:  0.0008149959250203749\n",
      "Average predicted outcome for non-whites:  0.0008403361344537816\n",
      "The largest threshold achieving Statistical Parity is:  0.9200000000000004\n",
      " \n",
      "Average predicted outcome for whites:  0.9983700081499592\n",
      "Average predicted outcome for non-whites:  0.9993697478991597\n",
      "The lowest threshold achieving Statistical Parity is:  0.19999999999999982\n"
     ]
    }
   ],
   "source": [
    "##Find the largest and lowest thresholds to enforce statistical parity\n",
    "##hint: build a recursive function to find the probability threshold that minimizes \n",
    "## the difference between the predicted outcomes for whites and non whites\n",
    "\n",
    "N_w = len(df_pred_white.index)\n",
    "N_nw = len(df_pred_non_white.index)\n",
    "avg_y_hat_w = df_pred_white[df_pred_white['jailed_hat'] == 1].count()['jailed_hat']/N_w\n",
    "avg_y_hat_nw = df_pred_non_white[df_pred_non_white['jailed_hat'] == 1].count()['jailed_hat']/N_nw\n",
    "print('Average predicted outcome for whites: ', avg_y_hat_w)\n",
    "print('Average predicted outcome for non-whites: ', avg_y_hat_nw)\n",
    "print(' ')\n",
    "print('Results with ad-hoc threshold')\n",
    "diff = 10\n",
    "thr = 0.5\n",
    "eps = .001\n",
    "while diff>eps:\n",
    "    thr+=0.02\n",
    "    decisions_w = (df_pred_white['jailed_prob']>=thr).astype(int)\n",
    "    avg_y_hat_w = decisions_w.sum()/N_w\n",
    "    decisions_nw = (df_pred_non_white['jailed_prob']>=thr).astype(int)\n",
    "    avg_y_hat_nw = decisions_nw.sum()/N_nw\n",
    "    diff=abs(avg_y_hat_w - avg_y_hat_nw)\n",
    "    \n",
    "print('Average predicted outcome for whites: ', avg_y_hat_w)\n",
    "print('Average predicted outcome for non-whites: ', avg_y_hat_nw)\n",
    "print('The largest threshold achieving Statistical Parity is: ', thr)\n",
    "print(' ')\n",
    "diff = 10\n",
    "thr = 0.5\n",
    "eps = .001\n",
    "while diff>eps:\n",
    "    thr-=0.02\n",
    "    decisions_w = (df_pred_white['jailed_prob']>=thr).astype(int)\n",
    "    avg_y_hat_w = decisions_w.sum()/N_w\n",
    "    decisions_nw = (df_pred_non_white['jailed_prob']>=thr).astype(int)\n",
    "    avg_y_hat_nw = decisions_nw.sum()/N_nw\n",
    "    diff=abs(avg_y_hat_w - avg_y_hat_nw)\n",
    "    \n",
    "print('Average predicted outcome for whites: ', avg_y_hat_w)\n",
    "print('Average predicted outcome for non-whites: ', avg_y_hat_nw)\n",
    "print('The lowest threshold achieving Statistical Parity is: ', thr)"
   ]
  },
  {
   "cell_type": "markdown",
   "metadata": {},
   "source": [
    "#### Model with Yhat"
   ]
  },
  {
   "cell_type": "code",
   "execution_count": 18,
   "metadata": {
    "scrolled": true
   },
   "outputs": [
    {
     "name": "stdout",
     "output_type": "stream",
     "text": [
      "Average predicted outcome for whites:  0.0032599837000814994\n",
      "Average predicted outcome for non-whites:  0.004621848739495798\n",
      " \n",
      "Results with ad-hoc threshold\n",
      "Average predicted outcome for whites:  0.0028524857375713123\n",
      "Average predicted outcome for non-whites:  0.003781512605042017\n",
      "The largest threshold achieving Statistical Parity is:  0.52\n",
      " \n",
      "Average predicted outcome for whites:  0.9963325183374083\n",
      "Average predicted outcome for non-whites:  0.996218487394958\n",
      "The lowest threshold achieving Statistical Parity is:  0.3599999999999999\n"
     ]
    }
   ],
   "source": [
    "##Find the largest and lowest thresholds to enforce statistical parity\n",
    "##hint: build a recursive function to find the probability threshold that minimizes \n",
    "## the difference between the predicted outcomes for whites and non whites\n",
    "\n",
    "avg_y_hat_w = df_pred_white[df_pred_white['jailed_Y_hat'] == 1].count()['jailed_Y_hat']/N_w\n",
    "avg_y_hat_nw = df_pred_non_white[df_pred_non_white['jailed_Y_hat'] == 1].count()['jailed_Y_hat']/N_nw\n",
    "print('Average predicted outcome for whites: ', avg_y_hat_w)\n",
    "print('Average predicted outcome for non-whites: ', avg_y_hat_nw)\n",
    "print(' ')\n",
    "print('Results with ad-hoc threshold')\n",
    "diff = 10\n",
    "thr = 0.5\n",
    "eps = .001\n",
    "while diff>eps:\n",
    "    thr+=0.02\n",
    "    decisions_w = (df_pred_white['jailed_Y_prob']>=thr).astype(int)\n",
    "    avg_y_hat_w = decisions_w.sum()/N_w\n",
    "    decisions_nw = (df_pred_non_white['jailed_Y_prob']>=thr).astype(int)\n",
    "    avg_y_hat_nw = decisions_nw.sum()/N_nw\n",
    "    diff=abs(avg_y_hat_w - avg_y_hat_nw)\n",
    "    \n",
    "print('Average predicted outcome for whites: ', avg_y_hat_w)\n",
    "print('Average predicted outcome for non-whites: ', avg_y_hat_nw)\n",
    "print('The largest threshold achieving Statistical Parity is: ', thr)\n",
    "print(' ')\n",
    "diff = 10\n",
    "thr = 0.5\n",
    "eps = .001\n",
    "while diff>eps:\n",
    "    thr-=0.02\n",
    "    decisions_w = (df_pred_white['jailed_Y_prob']>=thr).astype(int)\n",
    "    avg_y_hat_w = decisions_w.sum()/N_w\n",
    "    decisions_nw = (df_pred_non_white['jailed_Y_prob']>=thr).astype(int)\n",
    "    avg_y_hat_nw = decisions_nw.sum()/N_nw\n",
    "    diff=abs(avg_y_hat_w - avg_y_hat_nw)\n",
    "    \n",
    "print('Average predicted outcome for whites: ', avg_y_hat_w)\n",
    "print('Average predicted outcome for non-whites: ', avg_y_hat_nw)\n",
    "print('The lowest threshold achieving Statistical Parity is: ', thr)"
   ]
  },
  {
   "cell_type": "markdown",
   "metadata": {},
   "source": [
    "# Bonus 1: More Fairness Constraints"
   ]
  },
  {
   "cell_type": "markdown",
   "metadata": {},
   "source": [
    "Find the threshold for both models (with/without Yhat) that obtains error rate balance (equality of recalls for each class."
   ]
  },
  {
   "cell_type": "code",
   "execution_count": 19,
   "metadata": {},
   "outputs": [],
   "source": [
    "##TODO"
   ]
  },
  {
   "cell_type": "markdown",
   "metadata": {},
   "source": [
    "Find the threshold for both models (with/without Yhat) that obtains treatment equality (ratio of false positives to false negatives)."
   ]
  },
  {
   "cell_type": "code",
   "execution_count": 20,
   "metadata": {
    "scrolled": true
   },
   "outputs": [],
   "source": [
    "##TODO"
   ]
  },
  {
   "cell_type": "markdown",
   "metadata": {},
   "source": [
    "# Bonus 2: Pre-Processing for Fairness"
   ]
  },
  {
   "cell_type": "markdown",
   "metadata": {},
   "source": [
    "Regress all predictors in `X` on the protected attribute `A` and produce residuals `Xtilde`. Re-do the prediction task above (predicting judges' decision) and discuss how it changes the fairness metrics."
   ]
  },
  {
   "cell_type": "code",
   "execution_count": 21,
   "metadata": {},
   "outputs": [],
   "source": [
    "##TODO"
   ]
  }
 ],
 "metadata": {
  "kernelspec": {
   "display_name": "Python 3 (ipykernel)",
   "language": "python",
   "name": "python3"
  },
  "language_info": {
   "codemirror_mode": {
    "name": "ipython",
    "version": 3
   },
   "file_extension": ".py",
   "mimetype": "text/x-python",
   "name": "python",
   "nbconvert_exporter": "python",
   "pygments_lexer": "ipython3",
   "version": "3.9.13"
  }
 },
 "nbformat": 4,
 "nbformat_minor": 4
}
